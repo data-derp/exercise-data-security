{
 "cells": [
  {
   "cell_type": "markdown",
   "id": "bdb7d89d",
   "metadata": {},
   "source": [
    "## Data Security & Privacy in Workflows\n",
    "\n",
    "In this notebook, we'll explore ways to incorporate data security and privacy into large-scale data workflows. First, you might be wondering why we need to worry about these topics. Shouldn't this be a problem solved by the privacy department, infosec or via product owners? \n",
    "\n",
    "You can think of large scale data workflows like folks who manage the internet. We don't often see their work, but we know when it's broken! They probably deserve a lot more credit and attention for it, but we somehow just expect it \"to work ubiquitously.\" And we certainly expect the data we send around the internet to be kept private and secure (although in some geographies it is less likely...). If it wasn't for the work on those large-scale packet pipelines, then we couldn't trust technologies like SSL, TLS or our web applications or mobile applications. Those are enabled, propogated and enforced by all the intermediary hops, meaning the packet and data are handled with the same promises as they arrived. Hopefully you are getting the picture here -- security and privacy have to be baked into the architecture and data flow from the start, and cannot be simply \"tacked on\" at a given endpoint.\n",
    "\n",
    "So now we understand our responsibilities as the folks building the data backbones. What privacy and security concerns do we actually have? We'll walk through a concrete example to have a look!"
   ]
  },
  {
   "cell_type": "markdown",
   "id": "6809b642",
   "metadata": {},
   "source": [
    "### Example Data Product: Ingest Air Quality Sensors while Protecting User Privacy\n",
    "\n",
    "- We want to ingest air quality sensor data from users, buildings and institutions who are willing to send us data to build an air quality map (similar to the [IQAir map](https://www.iqair.com/air-quality-map).\n",
    "- Users only want to share the data if they can remain anonymous and their location is fuzzy, so that they are protected against stalkers, prying eyes and state surveillance.\n",
    "- Since the data is sensitive (from people and their homes!), we want to sure that it is secured either at collection, as well as at any intermediary hops.\n",
    "\n",
    "Let's first take a look at our data and determine what can and should be done..."
   ]
  },
  {
   "cell_type": "code",
   "execution_count": null,
   "id": "e0a66012",
   "metadata": {},
   "outputs": [],
   "source": [
    "import pandas as pd\n",
    "from IPython.display import Image\n",
    "\n",
    "df = pd.read_csv('data/air_quality.csv')"
   ]
  },
  {
   "cell_type": "code",
   "execution_count": null,
   "id": "dd178aa1",
   "metadata": {},
   "outputs": [],
   "source": [
    "df.head()"
   ]
  },
  {
   "cell_type": "code",
   "execution_count": null,
   "id": "bcc40b90",
   "metadata": {},
   "outputs": [],
   "source": [
    "df.location[1]"
   ]
  },
  {
   "cell_type": "code",
   "execution_count": null,
   "id": "50711506",
   "metadata": {},
   "outputs": [],
   "source": [
    "def parse_location(location_string):\n",
    "    location_keys = ['lat', 'long', 'city', 'country', 'timezone']\n",
    "    location_vals = [substring for substring in location_string.split(\"'\") \n",
    "                     if len(substring.replace(' ','').replace(',', '')) > 1]\n",
    "    return dict(zip(location_keys, location_vals))"
   ]
  },
  {
   "cell_type": "code",
   "execution_count": null,
   "id": "503d96f2",
   "metadata": {},
   "outputs": [],
   "source": [
    "parse_location(df.location[1])"
   ]
  },
  {
   "cell_type": "code",
   "execution_count": null,
   "id": "fc15246d",
   "metadata": {},
   "outputs": [],
   "source": [
    "df['location'] = df.location.map(parse_location)"
   ]
  },
  {
   "cell_type": "code",
   "execution_count": null,
   "id": "d2303d0a",
   "metadata": {},
   "outputs": [],
   "source": [
    "pd.json_normalize(df.location)"
   ]
  },
  {
   "cell_type": "code",
   "execution_count": null,
   "id": "81fa89bb",
   "metadata": {},
   "outputs": [],
   "source": [
    "loc_df = pd.json_normalize(df.location)"
   ]
  },
  {
   "cell_type": "code",
   "execution_count": null,
   "id": "6890e12b",
   "metadata": {},
   "outputs": [],
   "source": [
    "cleaned_df = pd.concat([df, loc_df], axis=1)"
   ]
  },
  {
   "cell_type": "code",
   "execution_count": null,
   "id": "d7f4b202",
   "metadata": {},
   "outputs": [],
   "source": [
    "cleaned_df = cleaned_df.drop(['location'], axis=1)"
   ]
  },
  {
   "cell_type": "code",
   "execution_count": null,
   "id": "6fffbc05",
   "metadata": {},
   "outputs": [],
   "source": [
    "cleaned_df.head()"
   ]
  },
  {
   "cell_type": "code",
   "execution_count": null,
   "id": "90af372a",
   "metadata": {},
   "outputs": [],
   "source": [
    "def score_category(aqi):\n",
    "    if aqi <= 50:\n",
    "        return 1\n",
    "    elif aqi <= 100:\n",
    "        return 2\n",
    "    elif aqi <= 150:\n",
    "        return 3\n",
    "    elif aqi <= 200:\n",
    "        return 4\n",
    "    elif aqi <= 300:\n",
    "        return 5\n",
    "    return 6"
   ]
  },
  {
   "cell_type": "code",
   "execution_count": null,
   "id": "3906a5b9",
   "metadata": {},
   "outputs": [],
   "source": [
    "cleaned_df['air_quality_category'] = cleaned_df.air_quality_index.map(score_category)"
   ]
  },
  {
   "cell_type": "code",
   "execution_count": null,
   "id": "a8ce7b1c",
   "metadata": {},
   "outputs": [],
   "source": [
    "cleaned_df.head()"
   ]
  },
  {
   "cell_type": "markdown",
   "id": "2fd8a61a",
   "metadata": {},
   "source": [
    "### So what even is sensitive information?\n",
    "\n",
    "Categories of sensitive information:\n",
    "\n",
    "- **Personally Identifiable Information (PII)**: This is information that we can directly link to a person without much effort. This includes information like email address, IP address, legal name, address, birth date, gender and so forth. Even just one of these pieces of information can be enough to directly identify someone in a dataset.\n",
    "- **Person-Related Information**: This is data that is created by a person and that likely has some personal artifacts. For example, [web browsing histories are fairly unique](https://blog.lukaszolejnik.com/web-browsing-histories-are-private-personal-data-now-what/), so is location data (i.e. Where do you sleep at night? Where do you work?) and even your likes on social media can statistically reveal sensitive attributes, such as your gender, ethnicity and your political preferences.\n",
    "- **Confidential Information**: This is sensitive information for companies, that should remain protected via similar methods as personal data. This data could reveal details about the core business model, proprietary practices, customer details (which can also contain personal information!) and internal business processes.\n",
    "\n",
    "When we define sensitive information as only PII, we tend to ignore other potential targets of sensitive data, that might be just as, if not more valuable!"
   ]
  },
  {
   "cell_type": "markdown",
   "id": "b647994f",
   "metadata": {},
   "source": [
    "#### What is sensitive here?"
   ]
  },
  {
   "cell_type": "code",
   "execution_count": null,
   "id": "a4be033b",
   "metadata": {},
   "outputs": [],
   "source": [
    "cleaned_df.head()"
   ]
  },
  {
   "cell_type": "code",
   "execution_count": null,
   "id": "4dd91c8e",
   "metadata": {},
   "outputs": [],
   "source": [
    "cleaned_df.info()"
   ]
  },
  {
   "cell_type": "markdown",
   "id": "321a27f4",
   "metadata": {},
   "source": [
    "#### How might we...?\n",
    "\n",
    "- Protect user_id while still allowing it to be linkable?\n",
    "- Remove potentially identifying precision in location?\n",
    "- Remove potentially identifying information in the timestamp?\n",
    "- Make these into scalable and repeatable actions for our workflow?\n",
    "\n",
    "Let's work on these step by step!"
   ]
  },
  {
   "cell_type": "code",
   "execution_count": null,
   "id": "48b30a45",
   "metadata": {},
   "outputs": [],
   "source": [
    "from ff3 import FF3Cipher\n",
    "key = \"2DE79D232DF5585D68CE47882AE256D6\"\n",
    "tweak = \"CBD09280979564\"\n",
    "\n",
    "c6 = FF3Cipher.withCustomAlphabet(key, tweak, \"ABCDEFGHIJKLMNOPQRSTUVWXYZabcdefghijklmnopqrstuvwxyz0123456789_\")\n",
    "\n",
    "plaintext = \"michael______\"\n",
    "ciphertext = c6.encrypt(plaintext)\n",
    "\n",
    "ciphertext"
   ]
  },
  {
   "cell_type": "code",
   "execution_count": null,
   "id": "78251ebd",
   "metadata": {},
   "outputs": [],
   "source": [
    "decrypted = c6.decrypt(ciphertext)\n",
    "decrypted"
   ]
  },
  {
   "cell_type": "code",
   "execution_count": null,
   "id": "87901415",
   "metadata": {},
   "outputs": [],
   "source": [
    "def encrypt_username(username):\n",
    "    return c6.encrypt(username)"
   ]
  },
  {
   "cell_type": "code",
   "execution_count": null,
   "id": "505a6cfc",
   "metadata": {},
   "outputs": [],
   "source": [
    "cleaned_df['user_id'] = cleaned_df.user_id.map(encrypt_username)"
   ]
  },
  {
   "cell_type": "markdown",
   "id": "42328cfd",
   "metadata": {},
   "source": [
    "Oh no! What happened here???"
   ]
  },
  {
   "cell_type": "code",
   "execution_count": null,
   "id": "9303bb95",
   "metadata": {},
   "outputs": [],
   "source": [
    "# %load solutions/add_padding_and_encrypt.py"
   ]
  },
  {
   "cell_type": "code",
   "execution_count": null,
   "id": "cfed3ac9",
   "metadata": {},
   "outputs": [],
   "source": [
    "def add_padding_and_encrypt(username):\n",
    "    #TODO\n",
    "    pass\n",
    " "
   ]
  },
  {
   "cell_type": "code",
   "execution_count": null,
   "id": "84ff3fd0",
   "metadata": {},
   "outputs": [],
   "source": [
    "cleaned_df['user_id'] = cleaned_df.user_id.map(add_padding_and_encrypt)"
   ]
  },
  {
   "cell_type": "code",
   "execution_count": null,
   "id": "e754d7c8",
   "metadata": {},
   "outputs": [],
   "source": [
    "cleaned_df.head()"
   ]
  },
  {
   "cell_type": "markdown",
   "id": "adb66d1d",
   "metadata": {},
   "source": [
    "We are now technically leaking length information... which we could determine is okay, so long as access to this data and the real data is fairly controlled. We could also say that we want to by default add padding to every username to make them consistent. This would be a good homework exercise (and also to write a function to decrypt and remove padding!!). One challenge, what happens if my username ends in X??? :) \n",
    "\n",
    "\n",
    "Now we can move onto our GPS data!\n",
    "\n",
    "How precise is GPS data anyways? 🤔 (from [wikipedia](https://en.wikipedia.org/wiki/Decimal_degrees))\n",
    "\n",
    "\n",
    "decimal places  | degrees  |distance\n",
    "------- | -------          |--------\n",
    "0        |1                |111  km\n",
    "1        |0.1              |11.1 km\n",
    "2        |0.01             |1.11 km\n",
    "3        |0.001            |111  m\n",
    "4        |0.0001           |11.1 m\n",
    "5        |0.00001          |1.11 m\n",
    "6        |0.000001         |11.1 cm\n",
    "7        |0.0000001        |1.11 cm\n",
    "8        |0.00000001       |1.11 mm"
   ]
  },
  {
   "cell_type": "code",
   "execution_count": null,
   "id": "3ea65a63",
   "metadata": {},
   "outputs": [],
   "source": [
    "cleaned_df.lat"
   ]
  },
  {
   "cell_type": "code",
   "execution_count": null,
   "id": "1a590db3",
   "metadata": {},
   "outputs": [],
   "source": [
    "def reduce_precision(val, degrees=3):\n",
    "    return round(val, degrees)"
   ]
  },
  {
   "cell_type": "code",
   "execution_count": null,
   "id": "ea2cdf72",
   "metadata": {},
   "outputs": [],
   "source": [
    "cleaned_df['lat'] = cleaned_df.lat.map(reduce_precision)"
   ]
  },
  {
   "cell_type": "markdown",
   "id": "cd034ceb",
   "metadata": {},
   "source": [
    "Oh no! What happened here???"
   ]
  },
  {
   "cell_type": "code",
   "execution_count": null,
   "id": "0fc7acf2",
   "metadata": {},
   "outputs": [],
   "source": [
    "# %load solutions/fix_type_error.py"
   ]
  },
  {
   "cell_type": "code",
   "execution_count": null,
   "id": "54d702b4",
   "metadata": {},
   "outputs": [],
   "source": [
    "cleaned_df.head()"
   ]
  },
  {
   "cell_type": "markdown",
   "id": "deb52ee3",
   "metadata": {},
   "source": [
    "What type of risk should we be aware of with regard to timestamp precision? When and how do we need to de-risk this  type of information?"
   ]
  },
  {
   "cell_type": "code",
   "execution_count": null,
   "id": "7040ec97",
   "metadata": {},
   "outputs": [],
   "source": [
    "# %load solutions/reduce_timestamp_precision.py\n"
   ]
  },
  {
   "cell_type": "code",
   "execution_count": null,
   "id": "8e807428",
   "metadata": {},
   "outputs": [],
   "source": [
    "def add_small_time_noise(timestamp):\n",
    "    #TODO\n",
    "    pass"
   ]
  },
  {
   "cell_type": "code",
   "execution_count": null,
   "id": "92b19aff",
   "metadata": {},
   "outputs": [],
   "source": [
    "cleaned_df['timestamp'] = pd.to_datetime(cleaned_df['timestamp']).map(add_small_time_noise)\n"
   ]
  },
  {
   "cell_type": "code",
   "execution_count": null,
   "id": "dbcf9acd",
   "metadata": {},
   "outputs": [],
   "source": [
    "cleaned_df.head()"
   ]
  },
  {
   "cell_type": "code",
   "execution_count": null,
   "id": "3d52179e",
   "metadata": {},
   "outputs": [],
   "source": [
    "cleaned_df.to_csv('data/data_for_marketing.csv')"
   ]
  },
  {
   "cell_type": "code",
   "execution_count": null,
   "id": "ce53c71b",
   "metadata": {},
   "outputs": [],
   "source": [
    "Image(url=\"images/cia_triad.png\", width=400, height=400)"
   ]
  },
  {
   "cell_type": "markdown",
   "id": "6fb19f10",
   "metadata": {},
   "source": [
    "\n",
    "This is a graphic from Wikipedia showing the so-called \"CIA\" triad, showing some of the core concepts we want to ensure to guarantee data security. Let's review them together:\n",
    "\n",
    "- **Confidentiality:** Data is kept confidential, meaning only those who should be able to access it can do so, and fine-tuned access is available and enforced.\n",
    "- **Integrity:** Data is accurate and cannot easily be changed or tampered with by internal or external actors in a malicious way.\n",
    "- **Availability:** Data fulfills any service-level objectives (SLOs) or service-level agreements (SLAs) and is made available in a secure and user-friendly manner. \n",
    "\n",
    "So translated into data engineering context, this means that:\n",
    "\n",
    "- Our data workflows enforce access-control restrictions, data protections or minimizations related to confidentiality and ensure sinks and sources match the encryption requirements we expect for the data sensitivity.\n",
    "- Our data workflows do not mangle data, maintain data quality principles outlined by governance processes and alert should malicious activity be detected.\n",
    "- Our data wofkflows meet SLOs/SLAs outlined by the data consumers and dependant data products."
   ]
  },
  {
   "cell_type": "markdown",
   "id": "79a7cbd4",
   "metadata": {},
   "source": [
    "### What about Privacy? 🦹🏻\n",
    "\n",
    "A foundational concept when it comes to designing privacy-respecting systems is the Privacy by Design principles outlined by [Anne Cavoukian in 2006](https://iapp.org/media/pdf/resource_center/pbd_implement_7found_principles.pdf).\n",
    "\n",
    "Let's pull out a few of the principles that relate to our work as data engineers...\n",
    "\n",
    "- **Proactive not Reactive; Preventative not Remedial:** Privacy is built into our architecture and data flows as we start building them. Think of this as the privacy version of TDD -- we write the privacy requirements first and design and build systems to fit them, not the other way around!\n",
    "- **Privacy as the Default Setting:** We optimize systems so that privacy is on by default, and changes to that are user-driven! This means tracking things like consent, implementing processes for data minimization and ensuring lineage and governance data is available to data consumers or dependant data products.\n",
    "- **Full Functionality – Positive-Sum, not Zero-Sum:** Data privacy is a benefit for the business, technologists and users, meaning we ensure that it is not a tradeoff in our product design. Users who choose privacy protections (or users who have them on automatically, by default, right?) receive full functionality.\n",
    "- **End-to-End Security – Full Lifecycle Protection:** Data is secured properly and for it's entire lifecycle (from collection endpoint to deletion!). Here is our big intersection with the security requirements.\n",
    "\n",
    "\n",
    "What does this mean for our data engineering work?\n",
    "\n",
    "- Our data workflows have privacy protections outlined and architected in before any code is written. We test for these and ensure they are working properly, should anything change.\n",
    "- Privacy is turned on by default, and any \"unknown\" data flows have privacy added to them when they enter into our systems or are discovered (e.g. in cases of unknown data storages or data from third parties).\n",
    "- We work directly with data producers and consumers (and other stakeholders, such as legal or privacy professionals) to find sweet spots that offer the appropriate protection for users and utility for business needs. Approach this as a postive-sum game and remember that user-centric choices are always a good business investment.\n",
    "- We design secure workflows that ensure that all user-related or person-related data is properly secured using standards from data security best practices (like our CIA triad!)\n",
    "\n",
    "\n",
    "#### Privacy and Information Continuum\n",
    "\n",
    "One useful way to begin shifting your understanding of privacy is to start thinking about it as a point on a spectrum instead of something that is \"on\" or \"off\". Here we can see that we can have a full range of points on a continuum, where privacy and information are somewhat at odds with one another. When we have full information, we have no privacy guarantees. When we have complete privacy, we cannot do our job as data people! Finding the right balance is the difficult and fun part of privacy in data science!"
   ]
  },
  {
   "cell_type": "code",
   "execution_count": null,
   "id": "0587f5fe",
   "metadata": {},
   "outputs": [],
   "source": [
    "Image(url=\"images/privacy_and_information_continuum.png\")"
   ]
  },
  {
   "cell_type": "markdown",
   "id": "899d2b15",
   "metadata": {},
   "source": [
    "### Congratulations!! \n",
    "\n",
    "You've walked through potential privacy snags and helped increase the protection for the individuals sending you their air quality details! Now developers can use this dataset and we have ensured that there are some base protections. As you may have noticed, it wasn't always obvious what we should do -- but by thinking through each data type and determining what worked to balance the utility of the data and the privacy we want to offer, we were able to find some ways to protect individuals. \n",
    "\n",
    "A good set of questions to ask for guidance is:\n",
    "\n",
    "- Where will this data be accessed and used? How safe is this environment?\n",
    "- What person-related data do we actually need to use to deliver this service or product? (data minimization!)\n",
    "- What other protections will be added to this data before it is seen or used? (i.e. encryption at rest, access control systems, or other protections when it reaches another processing point or sink!)\n",
    "- What privacy and security expectations do we want to set for the individuals in this dataset?\n",
    "- Where can we opportunistically add more protection while not hindering the work of data scientists, data analysts, software engineers and other colleagues?\n",
    "\n",
    "\n",
    "As you continue on in your data engineering journey, you'll likely encounter many more situations where you'll need to make privacy and security decisions. If you'd like to learn more and even work as a privacy or security champion -- feel free to join in your organizations' programs to support topics like this!"
   ]
  },
  {
   "cell_type": "code",
   "execution_count": null,
   "id": "d0552adc",
   "metadata": {},
   "outputs": [],
   "source": []
  },
  {
   "cell_type": "code",
   "execution_count": null,
   "id": "50939f34",
   "metadata": {},
   "outputs": [],
   "source": []
  }
 ],
 "metadata": {
  "kernelspec": {
   "display_name": "Python 3 (ipykernel)",
   "language": "python",
   "name": "python3"
  },
  "language_info": {
   "codemirror_mode": {
    "name": "ipython",
    "version": 3
   },
   "file_extension": ".py",
   "mimetype": "text/x-python",
   "name": "python",
   "nbconvert_exporter": "python",
   "pygments_lexer": "ipython3",
   "version": "3.8.9"
  }
 },
 "nbformat": 4,
 "nbformat_minor": 5
}
